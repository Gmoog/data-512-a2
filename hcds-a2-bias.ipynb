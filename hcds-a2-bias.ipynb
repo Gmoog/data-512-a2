{
 "cells": [
  {
   "cell_type": "markdown",
   "metadata": {},
   "source": [
    "## Data 512 - Assignment A2"
   ]
  },
  {
   "cell_type": "markdown",
   "metadata": {},
   "source": [
    "The goal of this assignment is to explore the concept of bias through data on Wikipedia articles - specifically, articles on political figures from a variety of countries. For this assignment, you will combine a dataset of Wikipedia articles with a dataset of country populations, and use a machine learning service called ORES to estimate the quality of each article.\n",
    "\n",
    "You are expected to perform an analysis of how the coverage of politicians on Wikipedia and the quality of articles about politicians varies between countries. Your analysis will consist of a series of tables that show:\n",
    "\n",
    "the countries with the greatest and least coverage of politicians on Wikipedia compared to their population.\n",
    "the countries with the highest and lowest proportion of high quality articles about politicians.\n",
    "You are also expected to write a short reflection on the project, that describes how this assignment helps you understand the causes and consequences of bias on Wikipedia."
   ]
  },
  {
   "cell_type": "markdown",
   "metadata": {},
   "source": [
    "### Getting the article and population data"
   ]
  },
  {
   "cell_type": "markdown",
   "metadata": {},
   "source": [
    "The first step is to download the file that contains the wikipedia country information from figshare and store this as a pandas dataframe."
   ]
  },
  {
   "cell_type": "code",
   "execution_count": 129,
   "metadata": {},
   "outputs": [],
   "source": [
    "import pandas as pd\n",
    "import numpy as np\n",
    "import math\n",
    "import requests\n",
    "import json\n",
    "country = pd.read_csv('page_data.csv')"
   ]
  },
  {
   "cell_type": "markdown",
   "metadata": {},
   "source": [
    "We then download the population data from dropbox(link described in readme file), and repeat the same process as above"
   ]
  },
  {
   "cell_type": "code",
   "execution_count": 18,
   "metadata": {},
   "outputs": [],
   "source": [
    "population = pd.read_csv('WPDS_2018_data.csv')"
   ]
  },
  {
   "cell_type": "markdown",
   "metadata": {},
   "source": [
    "### Getting article quality predictions"
   ]
  },
  {
   "cell_type": "markdown",
   "metadata": {},
   "source": [
    "Using a Wikimedia API endpoint that connects to a machine learning algorithm called ORES, we get quality predictions for each of the articles listed in the country data above."
   ]
  },
  {
   "cell_type": "code",
   "execution_count": 36,
   "metadata": {},
   "outputs": [],
   "source": [
    "headers = {'User-Agent' : 'https://github.com/Gmoog', 'From' : 'mgautam@uw.edu'}\n",
    "\n",
    "def get_ores_data(revision_ids, headers):\n",
    "    \n",
    "    # Define the endpoint\n",
    "    endpoint = 'https://ores.wikimedia.org/v3/scores/{project}/?models={model}&revids={revids}'\n",
    "    \n",
    "    # Specify the parameters - smushing all the revision IDs together separated by | marks.\n",
    "    # Yes, 'smush' is a technical term, trust me I'm a scientist.\n",
    "    # What do you mean \"but people trusting scientists regularly goes horribly wrong\" who taught you tha- oh.  \n",
    "    params = {'project' : 'enwiki',\n",
    "              'model'   : 'wp10',\n",
    "              'revids'  : '|'.join(str(x) for x in revision_ids)\n",
    "              }\n",
    "    api_call = requests.get(endpoint.format(**params))\n",
    "    response = api_call.json()\n",
    "    return response"
   ]
  },
  {
   "cell_type": "markdown",
   "metadata": {},
   "source": [
    "#### Make a list of all the rev_ids from the country table and send this information over to the ORES function, to retrieve the article quality rating"
   ]
  },
  {
   "cell_type": "code",
   "execution_count": 137,
   "metadata": {
    "collapsed": true
   },
   "outputs": [
    {
     "data": {
      "text/plain": [
       "47197"
      ]
     },
     "execution_count": 137,
     "metadata": {},
     "output_type": "execute_result"
    }
   ],
   "source": [
    "# store the revision ids in a list\n",
    "rev_ids = country['rev_id'].tolist()"
   ]
  },
  {
   "cell_type": "markdown",
   "metadata": {},
   "source": [
    "Divide the revisions ids into lists of size 100 and query the ORES function. This helps avoid hitting the limits.\n",
    "Also some of the revision ids, return an error from ORES, these revision_ids have been excluded from the results. The code in the cell below takes about 3 min to execute."
   ]
  },
  {
   "cell_type": "code",
   "execution_count": 166,
   "metadata": {},
   "outputs": [],
   "source": [
    "#variables to iterate through the revision ids in sizes of 100\n",
    "i=0\n",
    "j=100\n",
    "#lists to store the revision ids and quality predictions\n",
    "re_id = []\n",
    "prediction = []\n",
    "# dictionary to store the results from ORES\n",
    "res={}\n",
    "#divide the ids into lists of size 100 \n",
    "for t in range(math.ceil(len(rev_ids)/100)):\n",
    "    ids = rev_ids[i:j]\n",
    "    res = get_ores_data(ids,headers)\n",
    "    # check for no error messages in the output, and only then append the data\n",
    "    for ids in res['enwiki']['scores']:\n",
    "        if not res['enwiki']['scores'][ids]['wp10'].get('score') is None:\n",
    "            re_id.append(ids)\n",
    "            prediction.append(res['enwiki']['scores'][ids]['wp10']['score']['prediction'])\n",
    "    i+=100\n",
    "    j+=100 \n",
    "#create a dataframe to hold the revision ids and quality data\n",
    "art_quality = pd.DataFrame(np.column_stack([re_id,prediction]), columns=['revision_id','article_quality'])\n",
    "art_quality.revision_id = art_quality.revision_id.astype(int)\n"
   ]
  },
  {
   "cell_type": "markdown",
   "metadata": {},
   "source": [
    "#### Merging data from the 3 datasets created so far : country, population and article quality\n"
   ]
  },
  {
   "cell_type": "code",
   "execution_count": 170,
   "metadata": {},
   "outputs": [],
   "source": [
    "#lowering the case for both country lists, so that the join is not impacted by the country case\n",
    "population['Geography'] = population['Geography'].str.lower()\n",
    "country['country'] = country['country'].str.lower()\n",
    "# create a new dataframe by joining on the country column, using the inner join, so that unmatched rows are not included\n",
    "country_population = country.merge(population, how='inner', left_on='country',right_on='Geography')\n",
    "del country_population['Geography']\n",
    "# rename the columns as specified in the instructions\n",
    "country_population = country_population.rename(index=str, columns={\"page\": \"article_name\", \"rev_id\": \"revision_id\", \"Population mid-2018 (millions)\":\"population\"})\n",
    "# finally, add the data from the article quality dataframe, by joining on the revision_id column\n",
    "final_df = country_population.merge(art_quality, on='revision_id')\n"
   ]
  },
  {
   "cell_type": "markdown",
   "metadata": {},
   "source": [
    "#### The last step in the data wrangling step involves saving the final dataframe created above as a csv file, using the appropriate naming conventions"
   ]
  },
  {
   "cell_type": "code",
   "execution_count": 172,
   "metadata": {},
   "outputs": [],
   "source": [
    "# saving this dataframe to the final csv data file\n",
    "final_df.to_csv('en-wikipedia_article_quality_bycountry.csv',index=False)"
   ]
  },
  {
   "cell_type": "markdown",
   "metadata": {},
   "source": [
    "### Data Analysis"
   ]
  },
  {
   "cell_type": "markdown",
   "metadata": {},
   "source": [
    "Using pandas and its aggregation methods, create a dataframe that lists unique countries and the percentage of articles produced as a function of its population."
   ]
  },
  {
   "cell_type": "code",
   "execution_count": 191,
   "metadata": {},
   "outputs": [],
   "source": [
    "# convert the population column to a float datatype, after replacing the commas by blanks\n",
    "final_df['population'] = final_df['population'].str.replace(',', '').astype(float)\n",
    "# dataframe to hold information about countries and proportion of the number of articles with respect to its population, expressed as a percentage\n",
    "art_prop = pd.DataFrame(np.column_stack([np.sort(final_df['country'].unique()),final_df['country'].value_counts()/(final_df.groupby('country')['population'].mean()*10000.00)]),columns=['country','article_proportion (as % of population)'])"
   ]
  },
  {
   "cell_type": "markdown",
   "metadata": {},
   "source": [
    "Create another dataframe, that aggregates countries and the ratio of good quality articles produced from them as a function of the overall article count."
   ]
  },
  {
   "cell_type": "code",
   "execution_count": 279,
   "metadata": {},
   "outputs": [],
   "source": [
    "# dataframe to store values of each country and the total number of articles\n",
    "total_article = final_df.groupby('country').size().reset_index(name='total_article_count')\n",
    "# list to identify the good articles\n",
    "good = ['GA','FA']\n",
    "# dataframe to store number of good articles per country\n",
    "good_article = final_df[final_df['article_quality'].isin(good)].groupby('country').size().reset_index(name='good_article_count')\n",
    "# merge the two dataframes using the left outer join, since there can be countries with zero good articles\n",
    "good_v_total = total_article.merge(good_article, on='country',how='left')\n",
    "good_v_total.fillna(0, inplace=True)\n",
    "# calculate a new field to store the ratio of good articles to total articles per country\n",
    "good_v_total['proportion (as a percentage)'] = (good_v_total['good_article_count'] * 100)/good_v_total['total_article_count']"
   ]
  },
  {
   "cell_type": "markdown",
   "metadata": {},
   "source": [
    "### Embed four tables as described"
   ]
  },
  {
   "cell_type": "markdown",
   "metadata": {},
   "source": [
    "Table-1 Shows the 10 highest-ranked countries in terms of number of politician articles as a proportion of country population"
   ]
  },
  {
   "cell_type": "code",
   "execution_count": 275,
   "metadata": {},
   "outputs": [
    {
     "data": {
      "text/html": [
       "<div>\n",
       "<style>\n",
       "    .dataframe thead tr:only-child th {\n",
       "        text-align: right;\n",
       "    }\n",
       "\n",
       "    .dataframe thead th {\n",
       "        text-align: left;\n",
       "    }\n",
       "\n",
       "    .dataframe tbody tr th {\n",
       "        vertical-align: top;\n",
       "    }\n",
       "</style>\n",
       "<table border=\"1\" class=\"dataframe\">\n",
       "  <thead>\n",
       "    <tr style=\"text-align: right;\">\n",
       "      <th></th>\n",
       "      <th>country</th>\n",
       "      <th>article_proportion (as % of population)</th>\n",
       "    </tr>\n",
       "  </thead>\n",
       "  <tbody>\n",
       "    <tr>\n",
       "      <th>166</th>\n",
       "      <td>tuvalu</td>\n",
       "      <td>0.55</td>\n",
       "    </tr>\n",
       "    <tr>\n",
       "      <th>115</th>\n",
       "      <td>nauru</td>\n",
       "      <td>0.53</td>\n",
       "    </tr>\n",
       "    <tr>\n",
       "      <th>135</th>\n",
       "      <td>san marino</td>\n",
       "      <td>0.273333</td>\n",
       "    </tr>\n",
       "    <tr>\n",
       "      <th>108</th>\n",
       "      <td>monaco</td>\n",
       "      <td>0.1</td>\n",
       "    </tr>\n",
       "    <tr>\n",
       "      <th>93</th>\n",
       "      <td>liechtenstein</td>\n",
       "      <td>0.0725</td>\n",
       "    </tr>\n",
       "    <tr>\n",
       "      <th>161</th>\n",
       "      <td>tonga</td>\n",
       "      <td>0.063</td>\n",
       "    </tr>\n",
       "    <tr>\n",
       "      <th>103</th>\n",
       "      <td>marshall islands</td>\n",
       "      <td>0.0616667</td>\n",
       "    </tr>\n",
       "    <tr>\n",
       "      <th>68</th>\n",
       "      <td>iceland</td>\n",
       "      <td>0.0515</td>\n",
       "    </tr>\n",
       "    <tr>\n",
       "      <th>3</th>\n",
       "      <td>andorra</td>\n",
       "      <td>0.0425</td>\n",
       "    </tr>\n",
       "    <tr>\n",
       "      <th>52</th>\n",
       "      <td>federated states of micronesia</td>\n",
       "      <td>0.038</td>\n",
       "    </tr>\n",
       "  </tbody>\n",
       "</table>\n",
       "</div>"
      ],
      "text/plain": [
       "                            country article_proportion (as % of population)\n",
       "166                          tuvalu                                    0.55\n",
       "115                           nauru                                    0.53\n",
       "135                      san marino                                0.273333\n",
       "108                          monaco                                     0.1\n",
       "93                    liechtenstein                                  0.0725\n",
       "161                           tonga                                   0.063\n",
       "103                marshall islands                               0.0616667\n",
       "68                          iceland                                  0.0515\n",
       "3                           andorra                                  0.0425\n",
       "52   federated states of micronesia                                   0.038"
      ]
     },
     "execution_count": 275,
     "metadata": {},
     "output_type": "execute_result"
    }
   ],
   "source": [
    "art_prop.sort_values('article_proportion (as % of population)',ascending=False)[:10]"
   ]
  },
  {
   "cell_type": "markdown",
   "metadata": {},
   "source": [
    "Table-2 Shows the 10 lowest-ranked countries in terms of number of politician articles as a proportion of country population"
   ]
  },
  {
   "cell_type": "code",
   "execution_count": 276,
   "metadata": {},
   "outputs": [
    {
     "data": {
      "text/html": [
       "<div>\n",
       "<style>\n",
       "    .dataframe thead tr:only-child th {\n",
       "        text-align: right;\n",
       "    }\n",
       "\n",
       "    .dataframe thead th {\n",
       "        text-align: left;\n",
       "    }\n",
       "\n",
       "    .dataframe tbody tr th {\n",
       "        vertical-align: top;\n",
       "    }\n",
       "</style>\n",
       "<table border=\"1\" class=\"dataframe\">\n",
       "  <thead>\n",
       "    <tr style=\"text-align: right;\">\n",
       "      <th></th>\n",
       "      <th>country</th>\n",
       "      <th>article_proportion (as % of population)</th>\n",
       "    </tr>\n",
       "  </thead>\n",
       "  <tbody>\n",
       "    <tr>\n",
       "      <th>69</th>\n",
       "      <td>india</td>\n",
       "      <td>7.19026e-05</td>\n",
       "    </tr>\n",
       "    <tr>\n",
       "      <th>70</th>\n",
       "      <td>indonesia</td>\n",
       "      <td>8.06938e-05</td>\n",
       "    </tr>\n",
       "    <tr>\n",
       "      <th>34</th>\n",
       "      <td>china</td>\n",
       "      <td>8.14321e-05</td>\n",
       "    </tr>\n",
       "    <tr>\n",
       "      <th>173</th>\n",
       "      <td>uzbekistan</td>\n",
       "      <td>8.81459e-05</td>\n",
       "    </tr>\n",
       "    <tr>\n",
       "      <th>51</th>\n",
       "      <td>ethiopia</td>\n",
       "      <td>9.76744e-05</td>\n",
       "    </tr>\n",
       "    <tr>\n",
       "      <th>178</th>\n",
       "      <td>zambia</td>\n",
       "      <td>0.000141243</td>\n",
       "    </tr>\n",
       "    <tr>\n",
       "      <th>82</th>\n",
       "      <td>korea, north</td>\n",
       "      <td>0.000152344</td>\n",
       "    </tr>\n",
       "    <tr>\n",
       "      <th>159</th>\n",
       "      <td>thailand</td>\n",
       "      <td>0.000169184</td>\n",
       "    </tr>\n",
       "    <tr>\n",
       "      <th>13</th>\n",
       "      <td>bangladesh</td>\n",
       "      <td>0.000194111</td>\n",
       "    </tr>\n",
       "    <tr>\n",
       "      <th>112</th>\n",
       "      <td>mozambique</td>\n",
       "      <td>0.000196721</td>\n",
       "    </tr>\n",
       "  </tbody>\n",
       "</table>\n",
       "</div>"
      ],
      "text/plain": [
       "          country article_proportion (as % of population)\n",
       "69          india                             7.19026e-05\n",
       "70      indonesia                             8.06938e-05\n",
       "34          china                             8.14321e-05\n",
       "173    uzbekistan                             8.81459e-05\n",
       "51       ethiopia                             9.76744e-05\n",
       "178        zambia                             0.000141243\n",
       "82   korea, north                             0.000152344\n",
       "159      thailand                             0.000169184\n",
       "13     bangladesh                             0.000194111\n",
       "112    mozambique                             0.000196721"
      ]
     },
     "execution_count": 276,
     "metadata": {},
     "output_type": "execute_result"
    }
   ],
   "source": [
    "art_prop.sort_values('article_proportion (as % of population)')[:10]"
   ]
  },
  {
   "cell_type": "markdown",
   "metadata": {},
   "source": [
    "Table-3 Shows the 10 highest-ranked countries in terms of number of GA and FA-quality articles as a proportion of all articles about politicians from that country"
   ]
  },
  {
   "cell_type": "code",
   "execution_count": 280,
   "metadata": {},
   "outputs": [
    {
     "data": {
      "text/html": [
       "<div>\n",
       "<style>\n",
       "    .dataframe thead tr:only-child th {\n",
       "        text-align: right;\n",
       "    }\n",
       "\n",
       "    .dataframe thead th {\n",
       "        text-align: left;\n",
       "    }\n",
       "\n",
       "    .dataframe tbody tr th {\n",
       "        vertical-align: top;\n",
       "    }\n",
       "</style>\n",
       "<table border=\"1\" class=\"dataframe\">\n",
       "  <thead>\n",
       "    <tr style=\"text-align: right;\">\n",
       "      <th></th>\n",
       "      <th>country</th>\n",
       "      <th>total_article_count</th>\n",
       "      <th>good_article_count</th>\n",
       "      <th>proportion (as a percentage)</th>\n",
       "    </tr>\n",
       "  </thead>\n",
       "  <tbody>\n",
       "    <tr>\n",
       "      <th>82</th>\n",
       "      <td>korea, north</td>\n",
       "      <td>39</td>\n",
       "      <td>7.0</td>\n",
       "      <td>17.948718</td>\n",
       "    </tr>\n",
       "    <tr>\n",
       "      <th>137</th>\n",
       "      <td>saudi arabia</td>\n",
       "      <td>119</td>\n",
       "      <td>16.0</td>\n",
       "      <td>13.445378</td>\n",
       "    </tr>\n",
       "    <tr>\n",
       "      <th>31</th>\n",
       "      <td>central african republic</td>\n",
       "      <td>68</td>\n",
       "      <td>8.0</td>\n",
       "      <td>11.764706</td>\n",
       "    </tr>\n",
       "    <tr>\n",
       "      <th>132</th>\n",
       "      <td>romania</td>\n",
       "      <td>348</td>\n",
       "      <td>40.0</td>\n",
       "      <td>11.494253</td>\n",
       "    </tr>\n",
       "    <tr>\n",
       "      <th>104</th>\n",
       "      <td>mauritania</td>\n",
       "      <td>52</td>\n",
       "      <td>5.0</td>\n",
       "      <td>9.615385</td>\n",
       "    </tr>\n",
       "    <tr>\n",
       "      <th>19</th>\n",
       "      <td>bhutan</td>\n",
       "      <td>33</td>\n",
       "      <td>3.0</td>\n",
       "      <td>9.090909</td>\n",
       "    </tr>\n",
       "    <tr>\n",
       "      <th>166</th>\n",
       "      <td>tuvalu</td>\n",
       "      <td>55</td>\n",
       "      <td>5.0</td>\n",
       "      <td>9.090909</td>\n",
       "    </tr>\n",
       "    <tr>\n",
       "      <th>44</th>\n",
       "      <td>dominica</td>\n",
       "      <td>12</td>\n",
       "      <td>1.0</td>\n",
       "      <td>8.333333</td>\n",
       "    </tr>\n",
       "    <tr>\n",
       "      <th>171</th>\n",
       "      <td>united states</td>\n",
       "      <td>1092</td>\n",
       "      <td>82.0</td>\n",
       "      <td>7.509158</td>\n",
       "    </tr>\n",
       "    <tr>\n",
       "      <th>18</th>\n",
       "      <td>benin</td>\n",
       "      <td>94</td>\n",
       "      <td>7.0</td>\n",
       "      <td>7.446809</td>\n",
       "    </tr>\n",
       "  </tbody>\n",
       "</table>\n",
       "</div>"
      ],
      "text/plain": [
       "                      country  total_article_count  good_article_count  \\\n",
       "82               korea, north                   39                 7.0   \n",
       "137              saudi arabia                  119                16.0   \n",
       "31   central african republic                   68                 8.0   \n",
       "132                   romania                  348                40.0   \n",
       "104                mauritania                   52                 5.0   \n",
       "19                     bhutan                   33                 3.0   \n",
       "166                    tuvalu                   55                 5.0   \n",
       "44                   dominica                   12                 1.0   \n",
       "171             united states                 1092                82.0   \n",
       "18                      benin                   94                 7.0   \n",
       "\n",
       "     proportion (as a percentage)  \n",
       "82                      17.948718  \n",
       "137                     13.445378  \n",
       "31                      11.764706  \n",
       "132                     11.494253  \n",
       "104                      9.615385  \n",
       "19                       9.090909  \n",
       "166                      9.090909  \n",
       "44                       8.333333  \n",
       "171                      7.509158  \n",
       "18                       7.446809  "
      ]
     },
     "execution_count": 280,
     "metadata": {},
     "output_type": "execute_result"
    }
   ],
   "source": [
    "good_v_total.sort_values('proportion (as a percentage)',ascending=False)[:10]"
   ]
  },
  {
   "cell_type": "markdown",
   "metadata": {},
   "source": [
    "Table-4 Shows 10 lowest-ranked countries in terms of number of GA and FA-quality articles as a proportion of all articles about politicians from that country"
   ]
  },
  {
   "cell_type": "code",
   "execution_count": 281,
   "metadata": {},
   "outputs": [
    {
     "data": {
      "text/html": [
       "<div>\n",
       "<style>\n",
       "    .dataframe thead tr:only-child th {\n",
       "        text-align: right;\n",
       "    }\n",
       "\n",
       "    .dataframe thead th {\n",
       "        text-align: left;\n",
       "    }\n",
       "\n",
       "    .dataframe tbody tr th {\n",
       "        vertical-align: top;\n",
       "    }\n",
       "</style>\n",
       "<table border=\"1\" class=\"dataframe\">\n",
       "  <thead>\n",
       "    <tr style=\"text-align: right;\">\n",
       "      <th></th>\n",
       "      <th>country</th>\n",
       "      <th>total_article_count</th>\n",
       "      <th>good_article_count</th>\n",
       "      <th>proportion (as a percentage)</th>\n",
       "    </tr>\n",
       "  </thead>\n",
       "  <tbody>\n",
       "    <tr>\n",
       "      <th>136</th>\n",
       "      <td>sao tome and principe</td>\n",
       "      <td>22</td>\n",
       "      <td>0.0</td>\n",
       "      <td>0.0</td>\n",
       "    </tr>\n",
       "    <tr>\n",
       "      <th>112</th>\n",
       "      <td>mozambique</td>\n",
       "      <td>60</td>\n",
       "      <td>0.0</td>\n",
       "      <td>0.0</td>\n",
       "    </tr>\n",
       "    <tr>\n",
       "      <th>28</th>\n",
       "      <td>cameroon</td>\n",
       "      <td>105</td>\n",
       "      <td>0.0</td>\n",
       "      <td>0.0</td>\n",
       "    </tr>\n",
       "    <tr>\n",
       "      <th>65</th>\n",
       "      <td>guyana</td>\n",
       "      <td>20</td>\n",
       "      <td>0.0</td>\n",
       "      <td>0.0</td>\n",
       "    </tr>\n",
       "    <tr>\n",
       "      <th>165</th>\n",
       "      <td>turkmenistan</td>\n",
       "      <td>33</td>\n",
       "      <td>0.0</td>\n",
       "      <td>0.0</td>\n",
       "    </tr>\n",
       "    <tr>\n",
       "      <th>108</th>\n",
       "      <td>monaco</td>\n",
       "      <td>40</td>\n",
       "      <td>0.0</td>\n",
       "      <td>0.0</td>\n",
       "    </tr>\n",
       "    <tr>\n",
       "      <th>107</th>\n",
       "      <td>moldova</td>\n",
       "      <td>426</td>\n",
       "      <td>0.0</td>\n",
       "      <td>0.0</td>\n",
       "    </tr>\n",
       "    <tr>\n",
       "      <th>36</th>\n",
       "      <td>comoros</td>\n",
       "      <td>51</td>\n",
       "      <td>0.0</td>\n",
       "      <td>0.0</td>\n",
       "    </tr>\n",
       "    <tr>\n",
       "      <th>103</th>\n",
       "      <td>marshall islands</td>\n",
       "      <td>37</td>\n",
       "      <td>0.0</td>\n",
       "      <td>0.0</td>\n",
       "    </tr>\n",
       "    <tr>\n",
       "      <th>38</th>\n",
       "      <td>costa rica</td>\n",
       "      <td>150</td>\n",
       "      <td>0.0</td>\n",
       "      <td>0.0</td>\n",
       "    </tr>\n",
       "  </tbody>\n",
       "</table>\n",
       "</div>"
      ],
      "text/plain": [
       "                   country  total_article_count  good_article_count  \\\n",
       "136  sao tome and principe                   22                 0.0   \n",
       "112             mozambique                   60                 0.0   \n",
       "28                cameroon                  105                 0.0   \n",
       "65                  guyana                   20                 0.0   \n",
       "165           turkmenistan                   33                 0.0   \n",
       "108                 monaco                   40                 0.0   \n",
       "107                moldova                  426                 0.0   \n",
       "36                 comoros                   51                 0.0   \n",
       "103       marshall islands                   37                 0.0   \n",
       "38              costa rica                  150                 0.0   \n",
       "\n",
       "     proportion (as a percentage)  \n",
       "136                           0.0  \n",
       "112                           0.0  \n",
       "28                            0.0  \n",
       "65                            0.0  \n",
       "165                           0.0  \n",
       "108                           0.0  \n",
       "107                           0.0  \n",
       "36                            0.0  \n",
       "103                           0.0  \n",
       "38                            0.0  "
      ]
     },
     "execution_count": 281,
     "metadata": {},
     "output_type": "execute_result"
    }
   ],
   "source": [
    "good_v_total.sort_values('proportion (as a percentage)')[:10]"
   ]
  },
  {
   "cell_type": "markdown",
   "metadata": {},
   "source": [
    "### Reflection"
   ]
  },
  {
   "cell_type": "markdown",
   "metadata": {},
   "source": [
    "Please refer to the readme document."
   ]
  }
 ],
 "metadata": {
  "kernelspec": {
   "display_name": "Python 3",
   "language": "python",
   "name": "python3"
  },
  "language_info": {
   "codemirror_mode": {
    "name": "ipython",
    "version": 3
   },
   "file_extension": ".py",
   "mimetype": "text/x-python",
   "name": "python",
   "nbconvert_exporter": "python",
   "pygments_lexer": "ipython3",
   "version": "3.6.3"
  }
 },
 "nbformat": 4,
 "nbformat_minor": 2
}
